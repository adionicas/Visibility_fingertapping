{
 "metadata": {
  "language_info": {
   "codemirror_mode": {
    "name": "ipython",
    "version": 3
   },
   "file_extension": ".py",
   "mimetype": "text/x-python",
   "name": "python",
   "nbconvert_exporter": "python",
   "pygments_lexer": "ipython3",
   "version": "3.7.3-final"
  },
  "orig_nbformat": 2,
  "kernelspec": {
   "name": "python3",
   "display_name": "Python 3.7.3 64-bit",
   "metadata": {
    "interpreter": {
     "hash": "31f2aee4e71d21fbe5cf8b01ff0e069b9275f58929596ceb00d14d90e3e16cd6"
    }
   }
  }
 },
 "nbformat": 4,
 "nbformat_minor": 2,
 "cells": [
  {
   "cell_type": "code",
   "execution_count": 1,
   "metadata": {},
   "outputs": [
    {
     "output_type": "stream",
     "name": "stdout",
     "text": [
      "/disk2/tanta_roba/REST\n"
     ]
    }
   ],
   "source": [
    "cd /disk2/tanta_roba/REST"
   ]
  },
  {
   "source": [
    "## Work on Motion params"
   ],
   "cell_type": "markdown",
   "metadata": {}
  },
  {
   "cell_type": "code",
   "execution_count": 2,
   "metadata": {},
   "outputs": [],
   "source": [
    "import numpy as np\n",
    "import glob\n",
    "import pandas as pd\n",
    "import matplotlib.pyplot as plt"
   ]
  },
  {
   "cell_type": "code",
   "execution_count": 23,
   "metadata": {},
   "outputs": [
    {
     "output_type": "stream",
     "name": "stdout",
     "text": [
      "['./sub-0034/func/sub-0034_task-restingstate_acq-seq_desc-confounds_regressors.tsv', './sub-0018/func/sub-0018_task-restingstate_acq-seq_desc-confounds_regressors.tsv', './sub-0120/func/sub-0120_task-restingstate_acq-seq_desc-confounds_regressors.tsv', './sub-0127/func/sub-0127_task-restingstate_acq-seq_desc-confounds_regressors.tsv', './sub-0125/func/sub-0125_task-restingstate_acq-seq_desc-confounds_regressors.tsv']\n['./sub-0222/func/sub-0222_task-restingstate_acq-seq_desc-confounds_regressors.tsv', './sub-0082/func/sub-0082_task-restingstate_acq-seq_desc-confounds_regressors.tsv', './sub-0116/func/sub-0116_task-restingstate_acq-seq_desc-confounds_regressors.tsv', './sub-0052/func/sub-0052_task-restingstate_acq-seq_desc-confounds_regressors.tsv', './sub-0137/func/sub-0137_task-restingstate_acq-seq_desc-confounds_regressors.tsv']\n"
     ]
    },
    {
     "output_type": "execute_result",
     "data": {
      "text/plain": [
       "224"
      ]
     },
     "metadata": {},
     "execution_count": 23
    }
   ],
   "source": [
    "Myfiles = [i for i in glob.glob('./sub-*/func/sub-*.tsv')]\n",
    "print(Myfiles[:5])\n",
    "print(Myfiles[-5:])\n",
    "len(Myfiles)"
   ]
  },
  {
   "cell_type": "code",
   "execution_count": 24,
   "metadata": {},
   "outputs": [
    {
     "output_type": "stream",
     "name": "stdout",
     "text": [
      "sub-0018\n"
     ]
    }
   ],
   "source": [
    "i =1\n",
    "sub_ID=Myfiles[i][2:10]\n",
    "print(sub_ID)"
   ]
  },
  {
   "source": [
    "in terminal: mkdir 6_motion"
   ],
   "cell_type": "markdown",
   "metadata": {}
  },
  {
   "cell_type": "code",
   "execution_count": 25,
   "metadata": {},
   "outputs": [],
   "source": [
    "for i in range(len(Myfiles)):\n",
    "    conf_file = pd.read_csv (Myfiles[i],sep='\\t')\n",
    "\n",
    "    rot_x=conf_file.trans_x.values\n",
    "    rot_y=conf_file.trans_y.values\n",
    "    rot_z=conf_file.trans_z.values\n",
    "    trans_x=conf_file.rot_x.values\n",
    "    trans_y=conf_file.rot_y.values\n",
    "    trans_z=conf_file.rot_z.values\n",
    "    rot_x_d=conf_file.trans_x_derivative1.values\n",
    "    rot_y_d=conf_file.trans_y_derivative1.values\n",
    "    rot_z_d=conf_file.trans_z_derivative1.values\n",
    "    trans_x_d=conf_file.rot_x_derivative1.values\n",
    "    trans_y_d=conf_file.rot_y_derivative1.values\n",
    "    trans_z_d=conf_file.rot_z_derivative1.values\n",
    "\n",
    "    conc_mat = np.transpose(np.array([rot_x, rot_y, rot_z, trans_x, trans_y, trans_z, rot_x_d, rot_y_d, rot_z_d, trans_x_d, trans_y_d, trans_z_d]))\n",
    "\n",
    "    sub_ID=Myfiles[i][2:10]\n",
    "    np.savetxt(\"6_motion/\" + sub_ID + \"_6_motion_and_derivs.txt\", conc_mat, fmt=\"%s\")"
   ]
  },
  {
   "source": [
    "## Work on FD"
   ],
   "cell_type": "markdown",
   "metadata": {}
  },
  {
   "cell_type": "code",
   "execution_count": 32,
   "metadata": {},
   "outputs": [],
   "source": [
    "FD_DF = pd.DataFrame(columns=['SUB_ID','mean_FD', 'count_FD_025','count_FD_05','scan_len'], index=range(len(Myfiles)))"
   ]
  },
  {
   "cell_type": "code",
   "execution_count": 33,
   "metadata": {},
   "outputs": [
    {
     "output_type": "stream",
     "name": "stdout",
     "text": [
      "['FD_RMS/sub-0034_FD_RMS.txt', 'FD_RMS/sub-0132_FD_RMS.txt', 'FD_RMS/sub-0148_FD_RMS.txt', 'FD_RMS/sub-0035_FD_RMS.txt', 'FD_RMS/sub-0127_FD_RMS.txt']\n['FD_RMS/sub-0208_FD_RMS.txt', 'FD_RMS/sub-0093_FD_RMS.txt', 'FD_RMS/sub-0047_FD_RMS.txt', 'FD_RMS/sub-0096_FD_RMS.txt', 'FD_RMS/sub-0117_FD_RMS.txt']\n"
     ]
    },
    {
     "output_type": "execute_result",
     "data": {
      "text/plain": [
       "224"
      ]
     },
     "metadata": {},
     "execution_count": 33
    }
   ],
   "source": [
    "import numpy as np\n",
    "import glob\n",
    "import pandas as pd\n",
    "import matplotlib.pyplot as plt\n",
    "\n",
    "Myfiles = [i for i in glob.glob('FD_RMS/sub-*FD_RMS.txt')]\n",
    "print(Myfiles[:5])\n",
    "print(Myfiles[-5:])\n",
    "len(Myfiles)"
   ]
  },
  {
   "cell_type": "code",
   "execution_count": 34,
   "metadata": {},
   "outputs": [
    {
     "output_type": "execute_result",
     "data": {
      "text/plain": [
       "240"
      ]
     },
     "metadata": {},
     "execution_count": 34
    }
   ],
   "source": [
    "FD_file = np.loadtxt(Myfiles[i])\n",
    "len(FD_file)"
   ]
  },
  {
   "cell_type": "code",
   "execution_count": 37,
   "metadata": {},
   "outputs": [
    {
     "output_type": "execute_result",
     "data": {
      "text/plain": [
       "'sub-0117'"
      ]
     },
     "metadata": {},
     "execution_count": 37
    }
   ],
   "source": [
    "Myfiles[i][7:15]"
   ]
  },
  {
   "cell_type": "code",
   "execution_count": 38,
   "metadata": {},
   "outputs": [],
   "source": [
    "for i in range(len(Myfiles)):\n",
    "    FD_file = np.loadtxt(Myfiles[i])\n",
    "    sub_ID=Myfiles[i][7:15]\n",
    "    FD_DF.iloc[i]['SUB_ID'] = sub_ID\n",
    "    FD_DF.iloc[i]['mean_FD'] = np.mean(FD_file)\n",
    "    FD_DF.iloc[i]['count_FD_025'] = len(np.where( FD_file > 0.25 )[0])\n",
    "    FD_DF.iloc[i]['count_FD_05'] = len(np.where( FD_file > 0.5 )[0])\n",
    "    FD_DF.iloc[i]['scan_len'] = len(FD_file)\n",
    "#   write binary vectors in case I will want to do censoring\n",
    "    # FD_bin=np.ones(len(FD_file))\n",
    "    # for n in range(len(FD_file)):\n",
    "    #     if ((FD_file[n] >= 0.25)):\n",
    "    #         FD_bin[n]=0\n",
    "    # with open(str(sub_ID + \"_bin_FD_025.1D\"), 'w') as output:\n",
    "    #         for row in FD_bin:\n",
    "    #             output.write(str(int(row)) + '\\n')\n",
    "    # FD_bin=np.ones(len(FD_file))\n",
    "    # for n in range(len(FD_file)):\n",
    "    #     if ((FD_file[n] >= 0.5)):\n",
    "    #         FD_bin[n]=0\n",
    "    # with open(str(sub_ID + \"_bin_FD_05.1D\"), 'w') as output:\n",
    "    #         for row in FD_bin:\n",
    "    #             output.write(str(int(row)) + '\\n')\n",
    "FD_DF.to_excel(\"check_FD.xlsx\")"
   ]
  },
  {
   "cell_type": "code",
   "execution_count": null,
   "metadata": {},
   "outputs": [],
   "source": []
  }
 ]
}